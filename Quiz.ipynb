{
 "cells": [
  {
   "cell_type": "code",
   "execution_count": 114,
   "id": "d91c586f",
   "metadata": {},
   "outputs": [],
   "source": [
    "import numpy as np \n",
    "import pandas as pd \n",
    "import matplotlib.pyplot as plt\n",
    "import seaborn as sns\n",
    "from sklearn.model_selection import train_test_split, cross_val_score\n",
    "from sklearn.linear_model import LinearRegression, ElasticNet, Lasso, Ridge\n",
    "from sklearn.metrics import mean_absolute_error\n",
    "from sklearn.svm import SVR\n",
    "from sklearn.pipeline import make_pipeline\n",
    "from sklearn.preprocessing import StandardScaler\n"
   ]
  },
  {
   "cell_type": "code",
   "execution_count": 115,
   "id": "c6cc2130",
   "metadata": {},
   "outputs": [],
   "source": [
    "df = pd.read_csv('insurance.csv')"
   ]
  },
  {
   "cell_type": "code",
   "execution_count": 116,
   "id": "416dd402",
   "metadata": {},
   "outputs": [
    {
     "name": "stdout",
     "output_type": "stream",
     "text": [
      "X shape: (1338, 7)\n",
      "Y shape: (1338,)\n"
     ]
    }
   ],
   "source": [
    "data = pd.get_dummies(data,drop_first=True)\n",
    "d2 = data.copy()\n",
    "\n",
    "y_col = 'charges'\n",
    "X = d2.drop(y_col,axis=1)\n",
    "y = d2[y_col].copy()\n",
    "print('X shape:',X.shape)\n",
    "print('Y shape:',y.shape)"
   ]
  },
  {
   "cell_type": "code",
   "execution_count": 117,
   "id": "8ea0ae62",
   "metadata": {},
   "outputs": [],
   "source": [
    "X_train,X_test,y_train,y_test = train_test_split(X,y,random_state = 0,test_size = 0.2)"
   ]
  },
  {
   "cell_type": "code",
   "execution_count": 118,
   "id": "ac4bb4f2",
   "metadata": {},
   "outputs": [
    {
     "name": "stdout",
     "output_type": "stream",
     "text": [
      "X_train: (1070, 7)\n",
      "y_train: (1070,)\n",
      "X_test: (268, 7)\n",
      "y_test: (268,)\n"
     ]
    }
   ],
   "source": [
    "print(f\"X_train: {X_train.shape}\\ny_train: {y_train.shape}\\nX_test: {X_test.shape}\\ny_test: {y_test.shape}\")"
   ]
  },
  {
   "cell_type": "code",
   "execution_count": 119,
   "id": "6a09e8f5",
   "metadata": {},
   "outputs": [],
   "source": [
    "lr = LinearRegression()\n",
    "lr.fit(X_train, y_train)\n",
    "y_pred_lr = lr.predict(X_test)"
   ]
  },
  {
   "cell_type": "code",
   "execution_count": 120,
   "id": "1eee94f3",
   "metadata": {},
   "outputs": [],
   "source": [
    "Training_Dataset = Training_Dataset.dropna()\n",
    "X_train = np.array(Training_Dataset.iloc[:, :-1].values) \n",
    "y_train = np.array(Training_Dataset.iloc[:, 1].values) "
   ]
  },
  {
   "cell_type": "code",
   "execution_count": 121,
   "id": "e0ff3703",
   "metadata": {},
   "outputs": [],
   "source": [
    "Testing_Dataset = Testing_Dataset.dropna()\n",
    "X_test = np.array(Testing_Dataset.iloc[:, :-1].values) \n",
    "y_test = np.array(Testing_Dataset.iloc[:, 1].values) "
   ]
  },
  {
   "cell_type": "code",
   "execution_count": 122,
   "id": "d765790d",
   "metadata": {},
   "outputs": [],
   "source": [
    "from sklearn.preprocessing import OneHotEncoder\n",
    "onehotencoder = OneHotEncoder(categories='auto')\n",
    "\n",
    "var1 = onehotencoder.fit_transform(df.region.values.reshape(-1,1)).toarray()\n",
    "var1 = pd.DataFrame(var1)\n",
    "var1.columns = ['region_1', 'region_2', 'region_3', 'region_4']\n",
    "var1 = var1.iloc[:,0:3]\n",
    "df = pd.concat([df, var1], axis=1)\n",
    "\n",
    "onehotencoder = OneHotEncoder(categories='auto')\n",
    "var3 = onehotencoder.fit_transform(df.smoker.values.reshape(-1,1)).toarray()\n",
    "var3 = pd.DataFrame(var3)\n",
    "var3.columns = ['smoker_1', 'smoker_2']\n",
    "var3 = var3.iloc[:,0]\n",
    "df = pd.concat([df, var3], axis=1)\n",
    "df = df.drop(columns = ['region','sex','smoker'])"
   ]
  },
  {
   "cell_type": "code",
   "execution_count": 123,
   "id": "ecab930f",
   "metadata": {},
   "outputs": [
    {
     "data": {
      "text/html": [
       "<div>\n",
       "<style scoped>\n",
       "    .dataframe tbody tr th:only-of-type {\n",
       "        vertical-align: middle;\n",
       "    }\n",
       "\n",
       "    .dataframe tbody tr th {\n",
       "        vertical-align: top;\n",
       "    }\n",
       "\n",
       "    .dataframe thead th {\n",
       "        text-align: right;\n",
       "    }\n",
       "</style>\n",
       "<table border=\"1\" class=\"dataframe\">\n",
       "  <thead>\n",
       "    <tr style=\"text-align: right;\">\n",
       "      <th></th>\n",
       "      <th>age</th>\n",
       "      <th>bmi</th>\n",
       "      <th>children</th>\n",
       "      <th>region_1</th>\n",
       "      <th>region_2</th>\n",
       "      <th>region_3</th>\n",
       "      <th>smoker_1</th>\n",
       "      <th>charges</th>\n",
       "    </tr>\n",
       "  </thead>\n",
       "  <tbody>\n",
       "    <tr>\n",
       "      <th>0</th>\n",
       "      <td>19</td>\n",
       "      <td>27.900</td>\n",
       "      <td>0</td>\n",
       "      <td>0.0</td>\n",
       "      <td>0.0</td>\n",
       "      <td>0.0</td>\n",
       "      <td>0.0</td>\n",
       "      <td>16884.92400</td>\n",
       "    </tr>\n",
       "    <tr>\n",
       "      <th>1</th>\n",
       "      <td>18</td>\n",
       "      <td>33.770</td>\n",
       "      <td>1</td>\n",
       "      <td>0.0</td>\n",
       "      <td>0.0</td>\n",
       "      <td>1.0</td>\n",
       "      <td>1.0</td>\n",
       "      <td>1725.55230</td>\n",
       "    </tr>\n",
       "    <tr>\n",
       "      <th>2</th>\n",
       "      <td>28</td>\n",
       "      <td>33.000</td>\n",
       "      <td>3</td>\n",
       "      <td>0.0</td>\n",
       "      <td>0.0</td>\n",
       "      <td>1.0</td>\n",
       "      <td>1.0</td>\n",
       "      <td>4449.46200</td>\n",
       "    </tr>\n",
       "    <tr>\n",
       "      <th>3</th>\n",
       "      <td>33</td>\n",
       "      <td>22.705</td>\n",
       "      <td>0</td>\n",
       "      <td>0.0</td>\n",
       "      <td>1.0</td>\n",
       "      <td>0.0</td>\n",
       "      <td>1.0</td>\n",
       "      <td>21984.47061</td>\n",
       "    </tr>\n",
       "    <tr>\n",
       "      <th>4</th>\n",
       "      <td>32</td>\n",
       "      <td>28.880</td>\n",
       "      <td>0</td>\n",
       "      <td>0.0</td>\n",
       "      <td>1.0</td>\n",
       "      <td>0.0</td>\n",
       "      <td>1.0</td>\n",
       "      <td>3866.85520</td>\n",
       "    </tr>\n",
       "    <tr>\n",
       "      <th>...</th>\n",
       "      <td>...</td>\n",
       "      <td>...</td>\n",
       "      <td>...</td>\n",
       "      <td>...</td>\n",
       "      <td>...</td>\n",
       "      <td>...</td>\n",
       "      <td>...</td>\n",
       "      <td>...</td>\n",
       "    </tr>\n",
       "    <tr>\n",
       "      <th>1333</th>\n",
       "      <td>50</td>\n",
       "      <td>30.970</td>\n",
       "      <td>3</td>\n",
       "      <td>0.0</td>\n",
       "      <td>1.0</td>\n",
       "      <td>0.0</td>\n",
       "      <td>1.0</td>\n",
       "      <td>10600.54830</td>\n",
       "    </tr>\n",
       "    <tr>\n",
       "      <th>1334</th>\n",
       "      <td>18</td>\n",
       "      <td>31.920</td>\n",
       "      <td>0</td>\n",
       "      <td>1.0</td>\n",
       "      <td>0.0</td>\n",
       "      <td>0.0</td>\n",
       "      <td>1.0</td>\n",
       "      <td>2205.98080</td>\n",
       "    </tr>\n",
       "    <tr>\n",
       "      <th>1335</th>\n",
       "      <td>18</td>\n",
       "      <td>36.850</td>\n",
       "      <td>0</td>\n",
       "      <td>0.0</td>\n",
       "      <td>0.0</td>\n",
       "      <td>1.0</td>\n",
       "      <td>1.0</td>\n",
       "      <td>1629.83350</td>\n",
       "    </tr>\n",
       "    <tr>\n",
       "      <th>1336</th>\n",
       "      <td>21</td>\n",
       "      <td>25.800</td>\n",
       "      <td>0</td>\n",
       "      <td>0.0</td>\n",
       "      <td>0.0</td>\n",
       "      <td>0.0</td>\n",
       "      <td>1.0</td>\n",
       "      <td>2007.94500</td>\n",
       "    </tr>\n",
       "    <tr>\n",
       "      <th>1337</th>\n",
       "      <td>61</td>\n",
       "      <td>29.070</td>\n",
       "      <td>0</td>\n",
       "      <td>0.0</td>\n",
       "      <td>1.0</td>\n",
       "      <td>0.0</td>\n",
       "      <td>0.0</td>\n",
       "      <td>29141.36030</td>\n",
       "    </tr>\n",
       "  </tbody>\n",
       "</table>\n",
       "<p>1338 rows × 8 columns</p>\n",
       "</div>"
      ],
      "text/plain": [
       "      age     bmi  children  region_1  region_2  region_3  smoker_1  \\\n",
       "0      19  27.900         0       0.0       0.0       0.0       0.0   \n",
       "1      18  33.770         1       0.0       0.0       1.0       1.0   \n",
       "2      28  33.000         3       0.0       0.0       1.0       1.0   \n",
       "3      33  22.705         0       0.0       1.0       0.0       1.0   \n",
       "4      32  28.880         0       0.0       1.0       0.0       1.0   \n",
       "...   ...     ...       ...       ...       ...       ...       ...   \n",
       "1333   50  30.970         3       0.0       1.0       0.0       1.0   \n",
       "1334   18  31.920         0       1.0       0.0       0.0       1.0   \n",
       "1335   18  36.850         0       0.0       0.0       1.0       1.0   \n",
       "1336   21  25.800         0       0.0       0.0       0.0       1.0   \n",
       "1337   61  29.070         0       0.0       1.0       0.0       0.0   \n",
       "\n",
       "          charges  \n",
       "0     16884.92400  \n",
       "1      1725.55230  \n",
       "2      4449.46200  \n",
       "3     21984.47061  \n",
       "4      3866.85520  \n",
       "...           ...  \n",
       "1333  10600.54830  \n",
       "1334   2205.98080  \n",
       "1335   1629.83350  \n",
       "1336   2007.94500  \n",
       "1337  29141.36030  \n",
       "\n",
       "[1338 rows x 8 columns]"
      ]
     },
     "execution_count": 123,
     "metadata": {},
     "output_type": "execute_result"
    }
   ],
   "source": [
    "df = df[['age', 'bmi', 'children', 'region_1', 'region_2', 'region_3','smoker_1', 'charges']]\n",
    "df"
   ]
  },
  {
   "cell_type": "code",
   "execution_count": 124,
   "id": "fb050c4c",
   "metadata": {},
   "outputs": [],
   "source": [
    "from sklearn.model_selection import train_test_split\n",
    "X = df.iloc[:,0:7]\n",
    "Y = df.iloc[:,7]\n",
    "x_train, x_test, y_train, y_test = train_test_split(X, Y, test_size = 0.25, random_state = 5)"
   ]
  },
  {
   "cell_type": "code",
   "execution_count": 125,
   "id": "62265e33",
   "metadata": {},
   "outputs": [],
   "source": [
    "y_train = np.array(y_train).reshape(-1, 1)\n",
    "y_train = pd.DataFrame(y_train)\n",
    "y_test = np.array(y_test).reshape(-1, 1)\n",
    "y_test = pd.DataFrame(y_test)"
   ]
  },
  {
   "cell_type": "code",
   "execution_count": 126,
   "id": "99499ab7",
   "metadata": {},
   "outputs": [
    {
     "name": "stdout",
     "output_type": "stream",
     "text": [
      "((1003, 7), (335, 7), (1003, 1), (335, 1))\n"
     ]
    }
   ],
   "source": [
    "print((x_train.shape,x_test.shape,y_train.shape,y_test.shape))"
   ]
  },
  {
   "cell_type": "code",
   "execution_count": 127,
   "id": "8f1179f2",
   "metadata": {},
   "outputs": [
    {
     "name": "stdout",
     "output_type": "stream",
     "text": [
      "[[ 2.60642999e+02  3.29874669e+02  5.92234730e+02  8.45480348e+02\n",
      "   8.89605021e+02  4.60105170e+00 -2.38553573e+04]]\n"
     ]
    }
   ],
   "source": [
    "reg = LinearRegression()\n",
    "reg.fit(x_train, y_train)\n",
    "lr_pred = reg.predict(x_test)\n",
    "print(reg.coef_)"
   ]
  },
  {
   "cell_type": "code",
   "execution_count": 128,
   "id": "8a711a18",
   "metadata": {},
   "outputs": [
    {
     "data": {
      "text/plain": [
       "34369516.07026162"
      ]
     },
     "execution_count": 128,
     "metadata": {},
     "output_type": "execute_result"
    }
   ],
   "source": [
    "from sklearn.metrics import mean_squared_error\n",
    "mean_squared_error(lr_pred,y_test)"
   ]
  },
  {
   "cell_type": "code",
   "execution_count": 129,
   "id": "569047ff",
   "metadata": {},
   "outputs": [
    {
     "data": {
      "image/png": "[encoded data removed]",
      "text/plain": [
       "<Figure size 432x288 with 1 Axes>"
      ]
     },
     "metadata": {
      "needs_background": "light"
     },
     "output_type": "display_data"
    }
   ],
   "source": [
    "fig, ax = plt.subplots()\n",
    "ax.plot([0,1],[0,1], transform=ax.transAxes)\n",
    "\n",
    "plt.scatter(lr_pred, y_test)\n",
    "plt.xlabel(\"Valores previstos\")\n",
    "plt.ylabel(\"Valores observados\")\n",
    "\n",
    "plt.show()"
   ]
  },
  {
   "cell_type": "code",
   "execution_count": 130,
   "id": "0c26b00d",
   "metadata": {},
   "outputs": [],
   "source": [
    "data = pd.get_dummies(df)\n",
    "X = data.drop(\"charges\",1)\n",
    "y = data[[\"charges\"]]"
   ]
  },
  {
   "cell_type": "code",
   "execution_count": 131,
   "id": "adc4cc30",
   "metadata": {},
   "outputs": [],
   "source": [
    "X_train, X_test, y_train, y_test = train_test_split(X, y, test_size = 1/4, random_state = 0)"
   ]
  },
  {
   "cell_type": "code",
   "execution_count": 132,
   "id": "fa018ade",
   "metadata": {},
   "outputs": [],
   "source": [
    "las_test = Lasso()\n",
    "las_test.fit(X_train, y_train)\n",
    "pred = las_test.predict(X_test)"
   ]
  },
  {
   "cell_type": "code",
   "execution_count": 133,
   "id": "a28a5599",
   "metadata": {},
   "outputs": [
    {
     "name": "stdout",
     "output_type": "stream",
     "text": [
      "La media absoluta es: 4011.857210388824\n",
      "La puntuacion del modelo es: 0.7958977505661932\n"
     ]
    }
   ],
   "source": [
    "print(\"La media absoluta es:\", mean_absolute_error(y_test, pred))\n",
    "print(\"La puntuacion del modelo es:\", las_test.score(X_test, y_test))"
   ]
  },
  {
   "cell_type": "code",
   "execution_count": null,
   "id": "d20d6b79",
   "metadata": {},
   "outputs": [],
   "source": []
  }
 ],
 "metadata": {
  "kernelspec": {
   "display_name": "Python 3",
   "language": "python",
   "name": "python3"
  },
  "language_info": {
   "codemirror_mode": {
    "name": "ipython",
    "version": 3
   },
   "file_extension": ".py",
   "mimetype": "text/x-python",
   "name": "python",
   "nbconvert_exporter": "python",
   "pygments_lexer": "ipython3",
   "version": "3.8.8"
  }
 },
 "nbformat": 4,
 "nbformat_minor": 5
}
